{
 "cells": [
  {
   "cell_type": "code",
   "execution_count": null,
   "metadata": {},
   "outputs": [],
   "source": [
    "import numpy as np\n",
    "import pandas as pd\n",
    "from time import time\n",
    "from netort.data_manager import DataSession\n",
    "import logging\n",
    "logging.basicConfig(format='%(levelname)s:%(message)s', level=logging.INFO)\n",
    "%config Application.log_level=\"INFO\""
   ]
  },
  {
   "cell_type": "code",
   "execution_count": null,
   "metadata": {},
   "outputs": [],
   "source": [
    "# импортируем пхаут\n",
    "phout_columns = [\n",
    "    'time', 'tag', 'interval_real',\n",
    "    'connect_time', 'send_time',\n",
    "    'latency', 'receive_time',\n",
    "    'interval_event', 'size_out',\n",
    "    'size_in', 'net_code', 'proto_code']\n",
    "data = pd.read_csv(\n",
    "    \"phout.log\",\n",
    "    sep='\\t', names=phout_columns)\n",
    "data[['interval_real',\n",
    "    'connect_time', 'send_time',\n",
    "    'latency', 'receive_time',\n",
    "    'interval_event']]/=1000\n",
    "data['ts'] = (data[\"time\"] * 1000000 + data[\"interval_real\"]).astype(int)\n",
    "data['ts'] -= data[\"ts\"][0]\n",
    "data.size"
   ]
  },
  {
   "cell_type": "code",
   "execution_count": null,
   "metadata": {
    "scrolled": true
   },
   "outputs": [],
   "source": [
    "def upload_metric(data, name, group=None):\n",
    "    metric_meta = {\n",
    "        'type': 'metrics',\n",
    "        'name': name,\n",
    "        'hostname': 'localhost',\n",
    "        'source': 'Jupyter'\n",
    "    }\n",
    "    if group:\n",
    "        metric_meta.update({'group': group})\n",
    "    metric_obj = data_session.new_metric(metric_meta)\n",
    "    df = pd.DataFrame()\n",
    "    df['ts'] = data['ts']\n",
    "    df['value'] = data[name]\n",
    "    chunk_count = df.size/1000\n",
    "    if chunk_count:\n",
    "        for chunk in np.array_split(df, chunk_count):\n",
    "            metric_obj.put(chunk)\n",
    "    else:\n",
    "        metric_obj.put(df)"
   ]
  },
  {
   "cell_type": "code",
   "execution_count": null,
   "metadata": {},
   "outputs": [],
   "source": [
    "config = {\n",
    "    'clients': [\n",
    "        {\n",
    "            'type': 'luna',\n",
    "            'api_address': 'https://back.luna.yandex-team.ru',\n",
    "            'user_agent': 'Jupyter Test',\n",
    "        },\n",
    "        {\n",
    "            'type': 'local_storage',\n",
    "        }\n",
    "    ],\n",
    "    'test_start': int(time()*1e6),\n",
    "    'artifacts_base_dir': './logs'\n",
    "}\n",
    "data_session = DataSession(config=config)"
   ]
  },
  {
   "cell_type": "code",
   "execution_count": null,
   "metadata": {},
   "outputs": [],
   "source": [
    "upload_metric(data, 'interval_real')\n",
    "\n",
    "for key in ['connect_time', 'send_time',\n",
    "    'latency', 'receive_time',\n",
    "    'interval_event']:\n",
    "    upload_metric(data, key, group='fractions')\n",
    "    \n",
    "for key in ['size_out', 'size_in']:\n",
    "    upload_metric(data, key, group='size')"
   ]
  },
  {
   "cell_type": "code",
   "execution_count": null,
   "metadata": {},
   "outputs": [],
   "source": [
    "data_session.close()"
   ]
  }
 ],
 "metadata": {
  "kernelspec": {
   "display_name": "Python 3",
   "language": "python",
   "name": "python3"
  },
  "language_info": {
   "codemirror_mode": {
    "name": "ipython",
    "version": 3.0
   },
   "file_extension": ".py",
   "mimetype": "text/x-python",
   "name": "python",
   "nbconvert_exporter": "python",
   "pygments_lexer": "ipython3",
   "version": "3.7.2"
  },
  "pycharm": {
   "stem_cell": {
    "cell_type": "raw",
    "source": [],
    "metadata": {
     "collapsed": false
    }
   }
  }
 },
 "nbformat": 4,
 "nbformat_minor": 0
}
